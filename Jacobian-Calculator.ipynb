{
  "nbformat": 4,
  "nbformat_minor": 0,
  "metadata": {
    "colab": {
      "provenance": [],
      "authorship_tag": "ABX9TyOcbq7dh0nlIHaN1qTPldfk",
      "include_colab_link": true
    },
    "kernelspec": {
      "name": "python3",
      "display_name": "Python 3"
    },
    "language_info": {
      "name": "python"
    },
    "widgets": {
      "application/vnd.jupyter.widget-state+json": {
        "14668beacae4465eaaa0eae4ff49df90": {
          "model_module": "@jupyter-widgets/controls",
          "model_name": "TextareaModel",
          "model_module_version": "1.5.0",
          "state": {
            "_dom_classes": [],
            "_model_module": "@jupyter-widgets/controls",
            "_model_module_version": "1.5.0",
            "_model_name": "TextareaModel",
            "_view_count": null,
            "_view_module": "@jupyter-widgets/controls",
            "_view_module_version": "1.5.0",
            "_view_name": "TextareaView",
            "continuous_update": true,
            "description": "Functions:",
            "description_tooltip": null,
            "disabled": false,
            "layout": "IPY_MODEL_40be85841f5d4c1994c275ceb6018c6e",
            "placeholder": "​",
            "rows": null,
            "style": "IPY_MODEL_294574b4a6e54c8490c2756cafa9b112",
            "value": "l1*cos(theta1) + l2*cos(theta1 + theta2); l1*sin(theta1) + l2*sin(theta1 + theta2)"
          }
        },
        "40be85841f5d4c1994c275ceb6018c6e": {
          "model_module": "@jupyter-widgets/base",
          "model_name": "LayoutModel",
          "model_module_version": "1.2.0",
          "state": {
            "_model_module": "@jupyter-widgets/base",
            "_model_module_version": "1.2.0",
            "_model_name": "LayoutModel",
            "_view_count": null,
            "_view_module": "@jupyter-widgets/base",
            "_view_module_version": "1.2.0",
            "_view_name": "LayoutView",
            "align_content": null,
            "align_items": null,
            "align_self": null,
            "border": null,
            "bottom": null,
            "display": null,
            "flex": null,
            "flex_flow": null,
            "grid_area": null,
            "grid_auto_columns": null,
            "grid_auto_flow": null,
            "grid_auto_rows": null,
            "grid_column": null,
            "grid_gap": null,
            "grid_row": null,
            "grid_template_areas": null,
            "grid_template_columns": null,
            "grid_template_rows": null,
            "height": "100px",
            "justify_content": null,
            "justify_items": null,
            "left": null,
            "margin": null,
            "max_height": null,
            "max_width": null,
            "min_height": null,
            "min_width": null,
            "object_fit": null,
            "object_position": null,
            "order": null,
            "overflow": null,
            "overflow_x": null,
            "overflow_y": null,
            "padding": null,
            "right": null,
            "top": null,
            "visibility": null,
            "width": "95%"
          }
        },
        "294574b4a6e54c8490c2756cafa9b112": {
          "model_module": "@jupyter-widgets/controls",
          "model_name": "DescriptionStyleModel",
          "model_module_version": "1.5.0",
          "state": {
            "_model_module": "@jupyter-widgets/controls",
            "_model_module_version": "1.5.0",
            "_model_name": "DescriptionStyleModel",
            "_view_count": null,
            "_view_module": "@jupyter-widgets/base",
            "_view_module_version": "1.2.0",
            "_view_name": "StyleView",
            "description_width": ""
          }
        },
        "013a90eccf9e4346b2ead5c57d3a2531": {
          "model_module": "@jupyter-widgets/controls",
          "model_name": "TextModel",
          "model_module_version": "1.5.0",
          "state": {
            "_dom_classes": [],
            "_model_module": "@jupyter-widgets/controls",
            "_model_module_version": "1.5.0",
            "_model_name": "TextModel",
            "_view_count": null,
            "_view_module": "@jupyter-widgets/controls",
            "_view_module_version": "1.5.0",
            "_view_name": "TextView",
            "continuous_update": true,
            "description": "Variables:",
            "description_tooltip": null,
            "disabled": false,
            "layout": "IPY_MODEL_c12e1000ad204fb5acfb1db236062b81",
            "placeholder": "​",
            "style": "IPY_MODEL_9f70cf633071461f9597a493d11ecccb",
            "value": "l1, l2, theta1, theta2"
          }
        },
        "c12e1000ad204fb5acfb1db236062b81": {
          "model_module": "@jupyter-widgets/base",
          "model_name": "LayoutModel",
          "model_module_version": "1.2.0",
          "state": {
            "_model_module": "@jupyter-widgets/base",
            "_model_module_version": "1.2.0",
            "_model_name": "LayoutModel",
            "_view_count": null,
            "_view_module": "@jupyter-widgets/base",
            "_view_module_version": "1.2.0",
            "_view_name": "LayoutView",
            "align_content": null,
            "align_items": null,
            "align_self": null,
            "border": null,
            "bottom": null,
            "display": null,
            "flex": null,
            "flex_flow": null,
            "grid_area": null,
            "grid_auto_columns": null,
            "grid_auto_flow": null,
            "grid_auto_rows": null,
            "grid_column": null,
            "grid_gap": null,
            "grid_row": null,
            "grid_template_areas": null,
            "grid_template_columns": null,
            "grid_template_rows": null,
            "height": null,
            "justify_content": null,
            "justify_items": null,
            "left": null,
            "margin": null,
            "max_height": null,
            "max_width": null,
            "min_height": null,
            "min_width": null,
            "object_fit": null,
            "object_position": null,
            "order": null,
            "overflow": null,
            "overflow_x": null,
            "overflow_y": null,
            "padding": null,
            "right": null,
            "top": null,
            "visibility": null,
            "width": null
          }
        },
        "9f70cf633071461f9597a493d11ecccb": {
          "model_module": "@jupyter-widgets/controls",
          "model_name": "DescriptionStyleModel",
          "model_module_version": "1.5.0",
          "state": {
            "_model_module": "@jupyter-widgets/controls",
            "_model_module_version": "1.5.0",
            "_model_name": "DescriptionStyleModel",
            "_view_count": null,
            "_view_module": "@jupyter-widgets/base",
            "_view_module_version": "1.2.0",
            "_view_name": "StyleView",
            "description_width": ""
          }
        },
        "45d9eeda1b0448d48c6dc2457d23613b": {
          "model_module": "@jupyter-widgets/controls",
          "model_name": "TextModel",
          "model_module_version": "1.5.0",
          "state": {
            "_dom_classes": [],
            "_model_module": "@jupyter-widgets/controls",
            "_model_module_version": "1.5.0",
            "_model_name": "TextModel",
            "_view_count": null,
            "_view_module": "@jupyter-widgets/controls",
            "_view_module_version": "1.5.0",
            "_view_name": "TextView",
            "continuous_update": true,
            "description": "Values:",
            "description_tooltip": null,
            "disabled": false,
            "layout": "IPY_MODEL_d141db987ba84174965f88a94e489e89",
            "placeholder": "​",
            "style": "IPY_MODEL_79b872029b8042bdb04ee5000d681f31",
            "value": "1, 1, np.pi/4, np.pi/4"
          }
        },
        "d141db987ba84174965f88a94e489e89": {
          "model_module": "@jupyter-widgets/base",
          "model_name": "LayoutModel",
          "model_module_version": "1.2.0",
          "state": {
            "_model_module": "@jupyter-widgets/base",
            "_model_module_version": "1.2.0",
            "_model_name": "LayoutModel",
            "_view_count": null,
            "_view_module": "@jupyter-widgets/base",
            "_view_module_version": "1.2.0",
            "_view_name": "LayoutView",
            "align_content": null,
            "align_items": null,
            "align_self": null,
            "border": null,
            "bottom": null,
            "display": null,
            "flex": null,
            "flex_flow": null,
            "grid_area": null,
            "grid_auto_columns": null,
            "grid_auto_flow": null,
            "grid_auto_rows": null,
            "grid_column": null,
            "grid_gap": null,
            "grid_row": null,
            "grid_template_areas": null,
            "grid_template_columns": null,
            "grid_template_rows": null,
            "height": null,
            "justify_content": null,
            "justify_items": null,
            "left": null,
            "margin": null,
            "max_height": null,
            "max_width": null,
            "min_height": null,
            "min_width": null,
            "object_fit": null,
            "object_position": null,
            "order": null,
            "overflow": null,
            "overflow_x": null,
            "overflow_y": null,
            "padding": null,
            "right": null,
            "top": null,
            "visibility": null,
            "width": null
          }
        },
        "79b872029b8042bdb04ee5000d681f31": {
          "model_module": "@jupyter-widgets/controls",
          "model_name": "DescriptionStyleModel",
          "model_module_version": "1.5.0",
          "state": {
            "_model_module": "@jupyter-widgets/controls",
            "_model_module_version": "1.5.0",
            "_model_name": "DescriptionStyleModel",
            "_view_count": null,
            "_view_module": "@jupyter-widgets/base",
            "_view_module_version": "1.2.0",
            "_view_name": "StyleView",
            "description_width": ""
          }
        },
        "af75dd419c5145c3b831e876133dc338": {
          "model_module": "@jupyter-widgets/controls",
          "model_name": "ButtonModel",
          "model_module_version": "1.5.0",
          "state": {
            "_dom_classes": [],
            "_model_module": "@jupyter-widgets/controls",
            "_model_module_version": "1.5.0",
            "_model_name": "ButtonModel",
            "_view_count": null,
            "_view_module": "@jupyter-widgets/controls",
            "_view_module_version": "1.5.0",
            "_view_name": "ButtonView",
            "button_style": "",
            "description": "Evaluate Jacobian",
            "disabled": false,
            "icon": "",
            "layout": "IPY_MODEL_5af48b0456794db494826793439bf3a5",
            "style": "IPY_MODEL_b518429087ec4103b4cfb94ef6c9be8c",
            "tooltip": ""
          }
        },
        "5af48b0456794db494826793439bf3a5": {
          "model_module": "@jupyter-widgets/base",
          "model_name": "LayoutModel",
          "model_module_version": "1.2.0",
          "state": {
            "_model_module": "@jupyter-widgets/base",
            "_model_module_version": "1.2.0",
            "_model_name": "LayoutModel",
            "_view_count": null,
            "_view_module": "@jupyter-widgets/base",
            "_view_module_version": "1.2.0",
            "_view_name": "LayoutView",
            "align_content": null,
            "align_items": null,
            "align_self": null,
            "border": null,
            "bottom": null,
            "display": null,
            "flex": null,
            "flex_flow": null,
            "grid_area": null,
            "grid_auto_columns": null,
            "grid_auto_flow": null,
            "grid_auto_rows": null,
            "grid_column": null,
            "grid_gap": null,
            "grid_row": null,
            "grid_template_areas": null,
            "grid_template_columns": null,
            "grid_template_rows": null,
            "height": null,
            "justify_content": null,
            "justify_items": null,
            "left": null,
            "margin": null,
            "max_height": null,
            "max_width": null,
            "min_height": null,
            "min_width": null,
            "object_fit": null,
            "object_position": null,
            "order": null,
            "overflow": null,
            "overflow_x": null,
            "overflow_y": null,
            "padding": null,
            "right": null,
            "top": null,
            "visibility": null,
            "width": null
          }
        },
        "b518429087ec4103b4cfb94ef6c9be8c": {
          "model_module": "@jupyter-widgets/controls",
          "model_name": "ButtonStyleModel",
          "model_module_version": "1.5.0",
          "state": {
            "_model_module": "@jupyter-widgets/controls",
            "_model_module_version": "1.5.0",
            "_model_name": "ButtonStyleModel",
            "_view_count": null,
            "_view_module": "@jupyter-widgets/base",
            "_view_module_version": "1.2.0",
            "_view_name": "StyleView",
            "button_color": null,
            "font_weight": ""
          }
        },
        "6b1a2fee17a8434299014e8d172a1df5": {
          "model_module": "@jupyter-widgets/output",
          "model_name": "OutputModel",
          "model_module_version": "1.0.0",
          "state": {
            "_dom_classes": [],
            "_model_module": "@jupyter-widgets/output",
            "_model_module_version": "1.0.0",
            "_model_name": "OutputModel",
            "_view_count": null,
            "_view_module": "@jupyter-widgets/output",
            "_view_module_version": "1.0.0",
            "_view_name": "OutputView",
            "layout": "IPY_MODEL_151ba71374c741d7acdca6bc4d5b8957",
            "msg_id": "",
            "outputs": [
              {
                "output_type": "stream",
                "name": "stdout",
                "text": [
                  "Evaluated Jacobian matrix at the points: {'l1': 1.0, 'l2': 1.0, 'theta1': 0.7853981633974483, 'theta2': 0.7853981633974483}\n",
                  "[[ 7.07106781e-01  6.12323400e-17 -1.70710678e+00 -1.00000000e+00]\n",
                  " [ 7.07106781e-01  1.00000000e+00  7.07106781e-01  6.12323400e-17]]\n"
                ]
              },
              {
                "output_type": "display_data",
                "data": {
                  "text/plain": "<Figure size 1000x800 with 2 Axes>",
                  "image/png": "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\n"
                },
                "metadata": {}
              }
            ]
          }
        },
        "151ba71374c741d7acdca6bc4d5b8957": {
          "model_module": "@jupyter-widgets/base",
          "model_name": "LayoutModel",
          "model_module_version": "1.2.0",
          "state": {
            "_model_module": "@jupyter-widgets/base",
            "_model_module_version": "1.2.0",
            "_model_name": "LayoutModel",
            "_view_count": null,
            "_view_module": "@jupyter-widgets/base",
            "_view_module_version": "1.2.0",
            "_view_name": "LayoutView",
            "align_content": null,
            "align_items": null,
            "align_self": null,
            "border": null,
            "bottom": null,
            "display": null,
            "flex": null,
            "flex_flow": null,
            "grid_area": null,
            "grid_auto_columns": null,
            "grid_auto_flow": null,
            "grid_auto_rows": null,
            "grid_column": null,
            "grid_gap": null,
            "grid_row": null,
            "grid_template_areas": null,
            "grid_template_columns": null,
            "grid_template_rows": null,
            "height": null,
            "justify_content": null,
            "justify_items": null,
            "left": null,
            "margin": null,
            "max_height": null,
            "max_width": null,
            "min_height": null,
            "min_width": null,
            "object_fit": null,
            "object_position": null,
            "order": null,
            "overflow": null,
            "overflow_x": null,
            "overflow_y": null,
            "padding": null,
            "right": null,
            "top": null,
            "visibility": null,
            "width": null
          }
        }
      }
    }
  },
  "cells": [
    {
      "cell_type": "markdown",
      "metadata": {
        "id": "view-in-github",
        "colab_type": "text"
      },
      "source": [
        "<a href=\"https://colab.research.google.com/github/LoQiseaking69/Jacobian-calculator/blob/main/Jacobian-Calculator.ipynb\" target=\"_parent\"><img src=\"https://colab.research.google.com/assets/colab-badge.svg\" alt=\"Open In Colab\"/></a>"
      ]
    },
    {
      "cell_type": "code",
      "source": [
        "import numpy as np\n",
        "import matplotlib.pyplot as plt\n",
        "import seaborn as sns\n",
        "from sympy import symbols, parse_expr, lambdify, Matrix, simplify\n",
        "import ipywidgets as widgets\n",
        "from IPython.display import display, clear_output\n",
        "\n",
        "class JacobianComputation:\n",
        "    def __init__(self, function_expressions, variable_names):\n",
        "        self.variable_names = variable_names\n",
        "        self.functions = [parse_expr(func, evaluate=False) for func in function_expressions]\n",
        "        self.variables = symbols(variable_names)\n",
        "        self.jacobian = Matrix(self.functions).jacobian(self.variables)\n",
        "\n",
        "    def compute_jacobian(self):\n",
        "        return self.jacobian\n",
        "\n",
        "    def evaluate_jacobian(self, variable_values):\n",
        "        jacobian_func = lambdify(self.variables, self.jacobian, modules=[\"numpy\"])\n",
        "        return np.array(jacobian_func(*variable_values))\n",
        "\n",
        "    def plot_jacobian(self, jacobian_matrix):\n",
        "        plt.figure(figsize=(10, 8))\n",
        "        sns.heatmap(jacobian_matrix, annot=True, cmap='viridis', fmt='.2f')\n",
        "        plt.title('Jacobian Matrix Visualization')\n",
        "        plt.xlabel('Variables')\n",
        "        plt.ylabel('Functions')\n",
        "        plt.show()\n",
        "\n",
        "    def jacobian_determinant(self):\n",
        "        return simplify(self.jacobian.det())\n",
        "\n",
        "# Widgets for input\n",
        "function_input = widgets.Textarea(\n",
        "    value='l1*cos(theta1) + l2*cos(theta1 + theta2); l1*sin(theta1) + l2*sin(theta1 + theta2)',\n",
        "    description='Functions:',\n",
        "    disabled=False,\n",
        "    layout=widgets.Layout(width='95%', height='100px')\n",
        ")\n",
        "\n",
        "variable_input = widgets.Text(\n",
        "    value='l1, l2, theta1, theta2',\n",
        "    description='Variables:',\n",
        "    disabled=False\n",
        ")\n",
        "\n",
        "value_input = widgets.Text(\n",
        "    value='1, 1, np.pi/4, np.pi/4',\n",
        "    description='Values:',\n",
        "    disabled=False\n",
        ")\n",
        "\n",
        "evaluate_button = widgets.Button(\n",
        "    description='Evaluate Jacobian',\n",
        "    disabled=False,\n",
        "    button_style=''\n",
        ")\n",
        "\n",
        "output = widgets.Output()\n",
        "\n",
        "def on_evaluate_button_clicked(b):\n",
        "    with output:\n",
        "        clear_output(wait=True)\n",
        "        try:\n",
        "            # Process variable names\n",
        "            variable_names = [var.strip() for var in variable_input.value.split(',')]\n",
        "            # Process function strings\n",
        "            function_strings = [func.strip() for func in function_input.value.split(';')]\n",
        "            # Parse values, allowing for numpy constants\n",
        "            variable_values = eval(f'np.array([{value_input.value}])', {\"np\": np})\n",
        "\n",
        "            jc = JacobianComputation(function_strings, variable_names)\n",
        "\n",
        "            # Check if numerical values have been provided for all variables\n",
        "            if all(isinstance(v, (int, float, complex, np.number)) for v in variable_values):\n",
        "                evaluated_jacobian = jc.evaluate_jacobian(variable_values)\n",
        "                print(\"Evaluated Jacobian matrix at the points:\", dict(zip(variable_names, variable_values)))\n",
        "                print(evaluated_jacobian)\n",
        "                jc.plot_jacobian(evaluated_jacobian)\n",
        "            else:\n",
        "                # Handle symbolic case\n",
        "                print(\"Jacobian matrix (symbolic):\")\n",
        "                print(jc.compute_jacobian())\n",
        "                print(\"\\nJacobian Determinant (symbolic):\", jc.jacobian_determinant())\n",
        "\n",
        "        except Exception as e:\n",
        "            print(f\"An error occurred: {e}\")\n",
        "\n",
        "evaluate_button.on_click(on_evaluate_button_clicked)\n",
        "display(function_input, variable_input, value_input, evaluate_button, output)"
      ],
      "metadata": {
        "id": "FxqpTfQyrwiS",
        "outputId": "1f7e71d0-0009-433d-ae16-9eb598a38e19",
        "colab": {
          "base_uri": "https://localhost:8080/",
          "height": 636,
          "referenced_widgets": [
            "14668beacae4465eaaa0eae4ff49df90",
            "40be85841f5d4c1994c275ceb6018c6e",
            "294574b4a6e54c8490c2756cafa9b112",
            "013a90eccf9e4346b2ead5c57d3a2531",
            "c12e1000ad204fb5acfb1db236062b81",
            "9f70cf633071461f9597a493d11ecccb",
            "45d9eeda1b0448d48c6dc2457d23613b",
            "d141db987ba84174965f88a94e489e89",
            "79b872029b8042bdb04ee5000d681f31",
            "af75dd419c5145c3b831e876133dc338",
            "5af48b0456794db494826793439bf3a5",
            "b518429087ec4103b4cfb94ef6c9be8c",
            "6b1a2fee17a8434299014e8d172a1df5",
            "151ba71374c741d7acdca6bc4d5b8957"
          ]
        }
      },
      "execution_count": 1,
      "outputs": [
        {
          "output_type": "display_data",
          "data": {
            "text/plain": [
              "Textarea(value='l1*cos(theta1) + l2*cos(theta1 + theta2); l1*sin(theta1) + l2*sin(theta1 + theta2)', descripti…"
            ],
            "application/vnd.jupyter.widget-view+json": {
              "version_major": 2,
              "version_minor": 0,
              "model_id": "14668beacae4465eaaa0eae4ff49df90"
            }
          },
          "metadata": {}
        },
        {
          "output_type": "display_data",
          "data": {
            "text/plain": [
              "Text(value='l1, l2, theta1, theta2', description='Variables:')"
            ],
            "application/vnd.jupyter.widget-view+json": {
              "version_major": 2,
              "version_minor": 0,
              "model_id": "013a90eccf9e4346b2ead5c57d3a2531"
            }
          },
          "metadata": {}
        },
        {
          "output_type": "display_data",
          "data": {
            "text/plain": [
              "Text(value='1, 1, np.pi/4, np.pi/4', description='Values:')"
            ],
            "application/vnd.jupyter.widget-view+json": {
              "version_major": 2,
              "version_minor": 0,
              "model_id": "45d9eeda1b0448d48c6dc2457d23613b"
            }
          },
          "metadata": {}
        },
        {
          "output_type": "display_data",
          "data": {
            "text/plain": [
              "Button(description='Evaluate Jacobian', style=ButtonStyle())"
            ],
            "application/vnd.jupyter.widget-view+json": {
              "version_major": 2,
              "version_minor": 0,
              "model_id": "af75dd419c5145c3b831e876133dc338"
            }
          },
          "metadata": {}
        },
        {
          "output_type": "display_data",
          "data": {
            "text/plain": [
              "Output()"
            ],
            "application/vnd.jupyter.widget-view+json": {
              "version_major": 2,
              "version_minor": 0,
              "model_id": "6b1a2fee17a8434299014e8d172a1df5"
            }
          },
          "metadata": {}
        }
      ]
    }
  ]
}